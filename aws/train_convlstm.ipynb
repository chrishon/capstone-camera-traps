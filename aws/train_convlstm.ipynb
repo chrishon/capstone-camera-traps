{
 "cells": [
  {
   "cell_type": "code",
   "execution_count": 8,
   "metadata": {},
   "outputs": [],
   "source": [
    "import torch\n",
    "import cv2\n",
    "import numpy as np\n",
    "import os"
   ]
  },
  {
   "cell_type": "code",
   "execution_count": 4,
   "metadata": {},
   "outputs": [],
   "source": [
    "BUCKET_NAME = \"eth-capstone-camera-traps\"\n",
    "SM_ROLE = \"SagemakerExecutionRole\""
   ]
  },
  {
   "cell_type": "code",
   "execution_count": 2,
   "metadata": {},
   "outputs": [],
   "source": []
  },
  {
   "cell_type": "code",
   "execution_count": 3,
   "metadata": {},
   "outputs": [],
   "source": [
    "# def prepare_train_data(frames, sequence_length: int = 5):\n",
    "#     sequence_length = 5  # 3-5 frames as input, adjust as needed\n",
    "#     X, y = [], []\n",
    "\n",
    "#     for i in range(len(frames) - sequence_length):\n",
    "#         X.append(frames[i:i + sequence_length])  # Input sequence\n",
    "#         y.append(frames[i + sequence_length])    # Next frame to predict\n",
    "\n",
    "#     # Convert to numpy arrays and normalize\n",
    "#     X = np.array(X) / 255.0\n",
    "#     y = np.array(y) / 255.0\n",
    "\n",
    "#     X = X.reshape((X.shape[0],X.shape[1],X.shape[-1],X.shape[2],X.shape[3]))\n",
    "#     y = y.reshape((y.shape[0],y.shape[-1],y.shape[1],y.shape[2]))\n",
    "\n",
    "#     return X,y"
   ]
  },
  {
   "cell_type": "code",
   "execution_count": 5,
   "metadata": {},
   "outputs": [],
   "source": [
    "frames = extract_frames(video_path=\"/Users/chrishon/capstone-camera-traps/resources/videos/FH102_02 (1).avi\")"
   ]
  },
  {
   "cell_type": "code",
   "execution_count": 6,
   "metadata": {},
   "outputs": [],
   "source": [
    "X,y = prepare_train_data(frames)"
   ]
  },
  {
   "cell_type": "code",
   "execution_count": null,
   "metadata": {},
   "outputs": [],
   "source": [
    "import sagemaker\n",
    "from sagemaker.pytorch import PyTorch\n",
    "\n",
    "# Initialize SageMaker session\n",
    "sagemaker_session = sagemaker.Session()\n",
    "role = SM_ROLE  # Replace with your IAM role\n",
    "\n",
    "# Define PyTorch Estimator\n",
    "estimator = PyTorch(\n",
    "    entry_point=\"train_convlstm.py\",\n",
    "    role=role,\n",
    "    framework_version=\"2.5\",\n",
    "    py_version=\"py311\",\n",
    "    instance_count=1,\n",
    "    instance_type=\"ml.p3.2xlarge\",  # Select a GPU instance type\n",
    "    hyperparameters={\n",
    "        \"batch-size\": 8,\n",
    "        \"lr\": 0.001,\n",
    "        \"epochs\": 20,\n",
    "    },\n",
    "    source_dir=\".\",  # Directory containing `train.py`\n",
    "    use_spot_instances=True,\n",
    "    output_path=f\"s3://{BUCKET_NAME}\",\n",
    ")\n",
    "\n",
    "# Start training job with input from S3\n",
    "estimator.fit({\"training\": f\"s3://{BUCKET_NAME}\"})\n"
   ]
  }
 ],
 "metadata": {
  "kernelspec": {
   "display_name": "capstone",
   "language": "python",
   "name": "python3"
  },
  "language_info": {
   "codemirror_mode": {
    "name": "ipython",
    "version": 3
   },
   "file_extension": ".py",
   "mimetype": "text/x-python",
   "name": "python",
   "nbconvert_exporter": "python",
   "pygments_lexer": "ipython3",
   "version": "3.11.10"
  }
 },
 "nbformat": 4,
 "nbformat_minor": 2
}
